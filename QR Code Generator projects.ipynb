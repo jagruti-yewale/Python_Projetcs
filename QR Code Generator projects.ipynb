{
 "cells": [
  {
   "cell_type": "markdown",
   "id": "47bde802",
   "metadata": {},
   "source": [
    "# Generaing QR Code"
   ]
  },
  {
   "cell_type": "code",
   "execution_count": 1,
   "id": "6c6695af",
   "metadata": {},
   "outputs": [
    {
     "name": "stdout",
     "output_type": "stream",
     "text": [
      "Collecting qrcode\n",
      "  Downloading qrcode-7.4.2-py3-none-any.whl (46 kB)\n",
      "     ---------------------------------------- 0.0/46.2 kB ? eta -:--:--\n",
      "     -------------------------- ------------- 30.7/46.2 kB 1.3 MB/s eta 0:00:01\n",
      "     -------------------------------------- 46.2/46.2 kB 461.0 kB/s eta 0:00:00\n",
      "Requirement already satisfied: typing-extensions in c:\\users\\sony\\anaconda3\\lib\\site-packages (from qrcode) (4.7.1)\n",
      "Collecting pypng (from qrcode)\n",
      "  Downloading pypng-0.20220715.0-py3-none-any.whl (58 kB)\n",
      "     ---------------------------------------- 0.0/58.1 kB ? eta -:--:--\n",
      "     ---------------------------------------- 58.1/58.1 kB 3.2 MB/s eta 0:00:00\n",
      "Requirement already satisfied: colorama in c:\\users\\sony\\anaconda3\\lib\\site-packages (from qrcode) (0.4.6)\n",
      "Installing collected packages: pypng, qrcode\n",
      "Successfully installed pypng-0.20220715.0 qrcode-7.4.2\n",
      "Note: you may need to restart the kernel to use updated packages.\n"
     ]
    }
   ],
   "source": [
    "# for getting all libraries and modules includes in qrcode\n",
    "pip install qrcode"
   ]
  },
  {
   "cell_type": "code",
   "execution_count": 2,
   "id": "7234fe64",
   "metadata": {},
   "outputs": [],
   "source": [
    "import qrcode as qr"
   ]
  },
  {
   "cell_type": "code",
   "execution_count": 3,
   "id": "210332a2",
   "metadata": {},
   "outputs": [],
   "source": [
    "#string which represents the qrcode\n",
    "img = qr.make(\"https://www.coursera.org/en-IN\")\n",
    "# get any page from google or websites"
   ]
  },
  {
   "cell_type": "code",
   "execution_count": 4,
   "id": "07f86189",
   "metadata": {},
   "outputs": [],
   "source": [
    "#generate the qr code in image format\n",
    "img.save(\"qr code.png\")"
   ]
  },
  {
   "cell_type": "markdown",
   "id": "039c808d",
   "metadata": {},
   "source": [
    "for secondry section\n",
    "to make our qr code formattable"
   ]
  },
  {
   "cell_type": "code",
   "execution_count": 7,
   "id": "36574dc2",
   "metadata": {},
   "outputs": [],
   "source": [
    "import qrcode"
   ]
  },
  {
   "cell_type": "code",
   "execution_count": 8,
   "id": "55530f07",
   "metadata": {},
   "outputs": [],
   "source": [
    "#formatting your qr code\n",
    "from PIL import Image"
   ]
  },
  {
   "cell_type": "code",
   "execution_count": 9,
   "id": "de97deba",
   "metadata": {},
   "outputs": [],
   "source": [
    "#QRCode will formatting and modifying your generated qrcode\n",
    "qr = qrcode.QRCode(version=1,\n",
    "                   error_correction=qrcode.constants.ERROR_CORRECT_H,\n",
    "                   box_size=10,border=4)\n",
    "#give the data of our qr code\n",
    "qr.add_data(\"https://www.coursera.org/en-IN\")\n",
    "qr.make(fit=True)\n",
    "img=qr.make_image(fill_color=\"red\",back_color=\"blue\")\n",
    "img.save(\"coursera_webpage.png\")"
   ]
  },
  {
   "cell_type": "code",
   "execution_count": null,
   "id": "98c5a9c6",
   "metadata": {},
   "outputs": [],
   "source": []
  },
  {
   "cell_type": "code",
   "execution_count": null,
   "id": "7a056ced",
   "metadata": {},
   "outputs": [],
   "source": []
  },
  {
   "cell_type": "code",
   "execution_count": null,
   "id": "13c1976e",
   "metadata": {},
   "outputs": [],
   "source": []
  }
 ],
 "metadata": {
  "kernelspec": {
   "display_name": "Python 3 (ipykernel)",
   "language": "python",
   "name": "python3"
  },
  "language_info": {
   "codemirror_mode": {
    "name": "ipython",
    "version": 3
   },
   "file_extension": ".py",
   "mimetype": "text/x-python",
   "name": "python",
   "nbconvert_exporter": "python",
   "pygments_lexer": "ipython3",
   "version": "3.11.4"
  }
 },
 "nbformat": 4,
 "nbformat_minor": 5
}
