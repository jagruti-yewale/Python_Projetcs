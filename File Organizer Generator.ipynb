{
 "cells": [
  {
   "cell_type": "markdown",
   "id": "7a35e0a7",
   "metadata": {},
   "source": [
    "# File Organizer"
   ]
  },
  {
   "cell_type": "markdown",
   "id": "a7e7beb2",
   "metadata": {},
   "source": [
    "method 1"
   ]
  },
  {
   "cell_type": "code",
   "execution_count": 18,
   "id": "89a172d4",
   "metadata": {},
   "outputs": [],
   "source": [
    "import os\n",
    "import shutil"
   ]
  },
  {
   "cell_type": "code",
   "execution_count": 19,
   "id": "db94a071",
   "metadata": {},
   "outputs": [],
   "source": [
    "#selecyt the where we have to organize the files\n",
    "path = r\"C:/Users/SONY/Documents/DBMS\""
   ]
  },
  {
   "cell_type": "code",
   "execution_count": 20,
   "id": "62abdd55",
   "metadata": {},
   "outputs": [
    {
     "data": {
      "text/plain": [
       "['.docx', '.pdf', '.txt', 'docx']"
      ]
     },
     "execution_count": 20,
     "metadata": {},
     "output_type": "execute_result"
    }
   ],
   "source": [
    "#listings the files\n",
    "list_of_file = os.listdir(path)\n",
    "list_of_file"
   ]
  },
  {
   "cell_type": "markdown",
   "id": "d9d4a0d4",
   "metadata": {},
   "source": [
    "It give you the types or kinds of the file which store in that path"
   ]
  },
  {
   "cell_type": "code",
   "execution_count": 21,
   "id": "0da94517",
   "metadata": {},
   "outputs": [
    {
     "name": "stdout",
     "output_type": "stream",
     "text": [
      ".docx \n",
      ".pdf \n",
      ".txt \n",
      "docx \n"
     ]
    }
   ],
   "source": [
    "# if we want to sort the file by its extension which is easy to find out the file.\n",
    "for file in list_of_file:\n",
    "    name,extension = os.path.splitext(file)\n",
    "    print(name,extension)\n",
    "    extension = extension[1:]\n",
    "    \n",
    "    if os.path.exists(path+'/'+extension):\n",
    "        shutil.move(path+'/'+file, path+'/'+extension+'/'+file)\n",
    "        \n",
    "    else:\n",
    "        os.makedirs(path+'/'+extension)\n",
    "        shutil.move(path+'/'+file, path+'/'+extension+'/'+file)\n",
    "   "
   ]
  },
  {
   "cell_type": "markdown",
   "id": "3ad91f70",
   "metadata": {},
   "source": [
    "method 2"
   ]
  },
  {
   "cell_type": "code",
   "execution_count": 43,
   "id": "131427bb",
   "metadata": {},
   "outputs": [],
   "source": [
    "import os\n",
    "import shutil"
   ]
  },
  {
   "cell_type": "code",
   "execution_count": 44,
   "id": "3724e84c",
   "metadata": {},
   "outputs": [
    {
     "name": "stdout",
     "output_type": "stream",
     "text": [
      "Enter path: C:/Users/SONY/Documents/DA&P\n"
     ]
    }
   ],
   "source": [
    "path=input(\"Enter path: \")\n",
    "files = os.listdir(path)"
   ]
  },
  {
   "cell_type": "code",
   "execution_count": 45,
   "id": "bdd5b4d4",
   "metadata": {},
   "outputs": [
    {
     "data": {
      "text/plain": [
       "['codes.docx',\n",
       " 'copy of project1.txt',\n",
       " 'project1.py',\n",
       " 'python.txt',\n",
       " 'test1.txt',\n",
       " 'test2.txt']"
      ]
     },
     "execution_count": 45,
     "metadata": {},
     "output_type": "execute_result"
    }
   ],
   "source": [
    "files"
   ]
  },
  {
   "cell_type": "code",
   "execution_count": 48,
   "id": "0254730c",
   "metadata": {},
   "outputs": [],
   "source": [
    "for file in files:\n",
    "    filename , extension=os.path.splitext(file)\n",
    "    extension=extension[1:]\n",
    "    if os.path.exists(path+'/'+extension):\n",
    "        shutil.move(path+'/'+file , path+'/'+extension+'/'+file)\n",
    "    else:\n",
    "        os.makedirs(path+'/'+extension)\n",
    "        shutil.move(path+'/'+file , path+'/'+extension)"
   ]
  },
  {
   "cell_type": "markdown",
   "id": "b6af751c",
   "metadata": {},
   "source": [
    "After running this code , just checkout the same path root which is enterd above and you will found the the files are saved in the form of extension of the file like .pdf, .ppt, .txt, .bin, .ipnby, .xlsx, .mp4, .png, .jpg, etc"
   ]
  },
  {
   "cell_type": "code",
   "execution_count": null,
   "id": "ba2efb6f",
   "metadata": {},
   "outputs": [],
   "source": []
  },
  {
   "cell_type": "code",
   "execution_count": null,
   "id": "93c8a5c8",
   "metadata": {},
   "outputs": [],
   "source": []
  },
  {
   "cell_type": "code",
   "execution_count": null,
   "id": "6a22add4",
   "metadata": {},
   "outputs": [],
   "source": []
  },
  {
   "cell_type": "code",
   "execution_count": null,
   "id": "cefa0b6d",
   "metadata": {},
   "outputs": [],
   "source": []
  },
  {
   "cell_type": "code",
   "execution_count": null,
   "id": "aa5c7d87",
   "metadata": {},
   "outputs": [],
   "source": []
  }
 ],
 "metadata": {
  "kernelspec": {
   "display_name": "Python 3 (ipykernel)",
   "language": "python",
   "name": "python3"
  },
  "language_info": {
   "codemirror_mode": {
    "name": "ipython",
    "version": 3
   },
   "file_extension": ".py",
   "mimetype": "text/x-python",
   "name": "python",
   "nbconvert_exporter": "python",
   "pygments_lexer": "ipython3",
   "version": "3.11.4"
  }
 },
 "nbformat": 4,
 "nbformat_minor": 5
}
